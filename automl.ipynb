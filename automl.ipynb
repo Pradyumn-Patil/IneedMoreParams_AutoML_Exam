{
  "nbformat": 4,
  "nbformat_minor": 0,
  "metadata": {
    "colab": {
      "provenance": [],
      "gpuType": "T4",
      "mount_file_id": "1DmRnns-YDJ0ydVsCYJtqrd03xnbnQKgC",
      "authorship_tag": "ABX9TyNc0HRXFaQwORakDfCG6pgC",
      "include_colab_link": true
    },
    "kernelspec": {
      "name": "python3",
      "display_name": "Python 3"
    },
    "language_info": {
      "name": "python"
    },
    "accelerator": "GPU"
  },
  "cells": [
    {
      "cell_type": "markdown",
      "metadata": {
        "id": "view-in-github",
        "colab_type": "text"
      },
      "source": [
        "<a href=\"https://colab.research.google.com/github/Pradyumn-Patil/IneedMoreParams_AutoML_Exam/blob/yj/automl.ipynb\" target=\"_parent\"><img src=\"https://colab.research.google.com/assets/colab-badge.svg\" alt=\"Open In Colab\"/></a>"
      ]
    },
    {
      "cell_type": "code",
      "source": [
        "!git clone --branch yj https://github.com/Pradyumn-Patil/IneedMoreParams_AutoML_Exam.git"
      ],
      "metadata": {
        "id": "bOV7BohxQJ1c"
      },
      "execution_count": null,
      "outputs": []
    },
    {
      "cell_type": "code",
      "execution_count": null,
      "metadata": {
        "id": "gm9Cj1DD0r7I",
        "collapsed": true
      },
      "outputs": [],
      "source": [
        "!ls"
      ]
    },
    {
      "cell_type": "code",
      "source": [
        "import os\n",
        "import zipfile\n",
        "\n",
        "zip_url = \"https://ml.informatik.uni-freiburg.de/research-artifacts/automl-exam-25-text/text-phase1.zip\"\n",
        "zip_path = \"/content/text-phase1.zip\"\n",
        "drive_extract_path = \"/content/drive/MyDrive/automl/text-phase1\"\n",
        "\n",
        "!wget -O {zip_path} {zip_url}\n",
        "\n",
        "os.makedirs(drive_extract_path, exist_ok=True)\n",
        "\n",
        "with zipfile.ZipFile(zip_path, 'r') as zip_ref:\n",
        "    zip_ref.extractall(drive_extract_path)\n",
        "\n",
        "!ls {drive_extract_path}"
      ],
      "metadata": {
        "id": "SokExXyzY6DT"
      },
      "execution_count": null,
      "outputs": []
    },
    {
      "cell_type": "code",
      "source": [
        "%cd IneedMoreParams_AutoML_Exam"
      ],
      "metadata": {
        "id": "n05bHv-T_FRZ"
      },
      "execution_count": null,
      "outputs": []
    },
    {
      "cell_type": "code",
      "source": [
        "pip install -e ."
      ],
      "metadata": {
        "collapsed": true,
        "id": "_Fu6PdXe_v0K"
      },
      "execution_count": null,
      "outputs": []
    },
    {
      "cell_type": "code",
      "source": [
        "from google.colab import drive\n",
        "drive.mount('/content/drive')"
      ],
      "metadata": {
        "id": "Hm5r4FtuQ-kB"
      },
      "execution_count": null,
      "outputs": []
    },
    {
      "cell_type": "code",
      "source": [
        "!python run.py \\\n",
        "  --dataset imdb \\\n",
        "  --data-path /content/drive/MyDrive/automl/text-phase1 \\\n",
        "  --output-path /content/drive/MyDrive/automl/ffnn \\\n",
        "  --approach transformer \\\n",
        "  --use-hpo"
      ],
      "metadata": {
        "colab": {
          "base_uri": "https://localhost:8080/"
        },
        "id": "QnzP1hgZBC63",
        "outputId": "b7339619-2e6e-47a8-8df3-651035a6f8a6"
      },
      "execution_count": null,
      "outputs": [
        {
          "metadata": {
            "tags": null
          },
          "name": "stdout",
          "output_type": "stream",
          "text": [
            "\u001b[32m[I 2025-07-15 14:08:47,709]\u001b[0m A new study created in memory with name: hpo_transformer_42\u001b[0m\n",
            "  0% 0/20 [00:00<?, ?it/s]\n",
            "tokenizer_config.json: 100% 48.0/48.0 [00:00<00:00, 289kB/s]\n",
            "\n",
            "config.json: 100% 483/483 [00:00<00:00, 3.04MB/s]\n",
            "\n",
            "vocab.txt:   0% 0.00/232k [00:00<?, ?B/s]\u001b[A\n",
            "vocab.txt: 100% 232k/232k [00:00<00:00, 1.83MB/s]\n",
            "\n",
            "tokenizer.json: 100% 466k/466k [00:00<00:00, 7.20MB/s]\n",
            "2025-07-15 14:08:53.436401: E external/local_xla/xla/stream_executor/cuda/cuda_fft.cc:477] Unable to register cuFFT factory: Attempting to register factory for plugin cuFFT when one has already been registered\n",
            "WARNING: All log messages before absl::InitializeLog() is called are written to STDERR\n",
            "E0000 00:00:1752588533.722643    9407 cuda_dnn.cc:8310] Unable to register cuDNN factory: Attempting to register factory for plugin cuDNN when one has already been registered\n",
            "E0000 00:00:1752588533.800984    9407 cuda_blas.cc:1418] Unable to register cuBLAS factory: Attempting to register factory for plugin cuBLAS when one has already been registered\n",
            "2025-07-15 14:08:54.403998: I tensorflow/core/platform/cpu_feature_guard.cc:210] This TensorFlow binary is optimized to use available CPU instructions in performance-critical operations.\n",
            "To enable the following instructions: AVX2 FMA, in other operations, rebuild TensorFlow with the appropriate compiler flags.\n",
            "\n",
            "model.safetensors:   0% 0.00/268M [00:00<?, ?B/s]\u001b[A\n",
            "model.safetensors:   0% 68.6k/268M [00:00<44:08, 101kB/s]\u001b[A\n",
            "model.safetensors:   1% 1.56M/268M [00:00<01:44, 2.55MB/s]\u001b[A\n",
            "model.safetensors:   7% 18.1M/268M [00:00<00:07, 33.3MB/s]\u001b[A\n",
            "model.safetensors:  10% 27.1M/268M [00:01<00:05, 44.6MB/s]\u001b[A\n",
            "model.safetensors:  19% 49.7M/268M [00:01<00:02, 78.9MB/s]\u001b[A\n",
            "model.safetensors:  25% 66.8M/268M [00:01<00:02, 75.8MB/s]\u001b[A\n",
            "model.safetensors:  50% 134M/268M [00:02<00:01, 80.2MB/s] \u001b[A\n",
            "model.safetensors: 100% 268M/268M [00:02<00:00, 90.4MB/s]\n",
            "Some weights of DistilBertForSequenceClassification were not initialized from the model checkpoint at distilbert-base-uncased and are newly initialized: ['classifier.bias', 'classifier.weight', 'pre_classifier.bias', 'pre_classifier.weight']\n",
            "You should probably TRAIN this model on a down-stream task to be able to use it for predictions and inference.\n"
          ]
        }
      ]
    },
    {
      "cell_type": "code",
      "source": [
        "!python run.py \\\n",
        "  --dataset imdb \\\n",
        "  --data-path ./text-phase1 \\\n",
        "  --output-path ./drive/MyDrive/automl/logistic \\\n",
        "  --approach logistic \\\n",
        "  --epochs 10 \\\n",
        "  --data-fraction 0.3"
      ],
      "metadata": {
        "id": "NLZlXY7W9b9R"
      },
      "execution_count": null,
      "outputs": []
    },
    {
      "cell_type": "code",
      "source": [
        "!python run.py \\\n",
        "  --dataset imdb \\\n",
        "  --data-path ./text-phase1 \\\n",
        "  --output-path ./drive/MyDrive/automl/lstm \\\n",
        "  --approach lstm \\\n",
        "  --epochs 10 \\\n",
        "  --data-fraction 0.3 \\\n",
        "  --lr 0.0001"
      ],
      "metadata": {
        "id": "TUY5x0Za9f2_"
      },
      "execution_count": null,
      "outputs": []
    },
    {
      "cell_type": "code",
      "source": [
        "!python run.py \\\n",
        "  --dataset imdb \\\n",
        "  --data-path ./text-phase1 \\\n",
        "  --output-path ./drive/MyDrive/automl/transformer \\\n",
        "  --approach transformer \\\n",
        "  --epochs 10 \\\n",
        "  --data-fraction 0.3 \\\n",
        "  --lr 0.0001"
      ],
      "metadata": {
        "id": "j-ddlsPS9t02"
      },
      "execution_count": null,
      "outputs": []
    }
  ]
}